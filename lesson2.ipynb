{
 "cells": [
  {
   "cell_type": "code",
   "execution_count": null,
   "metadata": {},
   "outputs": [],
   "source": [
    "4.0"
   ]
  },
  {
   "cell_type": "code",
   "execution_count": null,
   "metadata": {},
   "outputs": [],
   "source": [
    "type(4.0)"
   ]
  },
  {
   "cell_type": "code",
   "execution_count": null,
   "metadata": {},
   "outputs": [],
   "source": [
    "mystring = \"anna\""
   ]
  },
  {
   "cell_type": "code",
   "execution_count": null,
   "metadata": {},
   "outputs": [],
   "source": [
    "mystring = \"anna\"\n",
    "mystring.capitalize()"
   ]
  },
  {
   "cell_type": "code",
   "execution_count": null,
   "metadata": {},
   "outputs": [],
   "source": [
    "mylist = [\"carla\", \"anna\", \"marc\", \"pau\"]"
   ]
  },
  {
   "cell_type": "code",
   "execution_count": null,
   "metadata": {},
   "outputs": [],
   "source": [
    "mylist"
   ]
  },
  {
   "cell_type": "code",
   "execution_count": null,
   "metadata": {},
   "outputs": [],
   "source": [
    "mylist[1] = \"anni\""
   ]
  },
  {
   "cell_type": "code",
   "execution_count": null,
   "metadata": {},
   "outputs": [],
   "source": [
    "mylist"
   ]
  },
  {
   "cell_type": "code",
   "execution_count": null,
   "metadata": {},
   "outputs": [],
   "source": [
    "mylist = ['carla', 'anni', 'marc', 'pau', 'pau', '20']"
   ]
  },
  {
   "cell_type": "code",
   "execution_count": null,
   "metadata": {},
   "outputs": [],
   "source": [
    "mylist"
   ]
  },
  {
   "cell_type": "code",
   "execution_count": null,
   "metadata": {},
   "outputs": [],
   "source": [
    "mylist.append(\"hey\")"
   ]
  },
  {
   "cell_type": "code",
   "execution_count": null,
   "metadata": {},
   "outputs": [],
   "source": [
    "mylist"
   ]
  },
  {
   "cell_type": "code",
   "execution_count": 12,
   "metadata": {},
   "outputs": [],
   "source": [
    "students = [\"Aine_Gates\",\n",
    "            \"Àlex_Gómez\",\n",
    "            \"André_SantaClara\",\n",
    "            \"Anne_Fonte\",\n",
    "            \"Arnau_Angerri\",\n",
    "            \"Carla_Feriche\",\n",
    "            \"Daria_Gavrilova\",\n",
    "            \"Dirk_Gruhne\",\n",
    "            \"Erik_Termes\",\n",
    "            \"Filipe_Santos\",\n",
    "            \"Hugo_Mellado\",\n",
    "            \"Jorge_Gonzalez\",\n",
    "            \"Marc_Sarrau\",\n",
    "            \"Maria_González\",\n",
    "            \"Miguel_Chacon\",\n",
    "            \"Miguel_Simón\",\n",
    "            \"Nick_Deitmers\",\n",
    "            \"Oscar_Tomás\",\n",
    "            \"Pau_Sancho\",\n",
    "            \"Pol_Serramalera\",\n",
    "            \"Raúl_Castrillo\",\n",
    "            \"Réka_Varga\",\n",
    "            \"Sara_Peña\",\n",
    "            \"Sergio_Monge\",\n",
    "            \"Toni_Espadas\",\n",
    "            \"Víctor_López\",\n",
    "            \"Yidi_Chi\"]\n"
   ]
  },
  {
   "cell_type": "code",
   "execution_count": 13,
   "metadata": {},
   "outputs": [
    {
     "data": {
      "text/plain": [
       "['Aine', 'Gates']"
      ]
     },
     "execution_count": 13,
     "metadata": {},
     "output_type": "execute_result"
    }
   ],
   "source": [
    "students_names = []\n",
    "students_surnames = []\n",
    "students[0].split(\"_\")"
   ]
  },
  {
   "cell_type": "code",
   "execution_count": null,
   "metadata": {},
   "outputs": [],
   "source": [
    "students[].split(\"_\")[1]"
   ]
  },
  {
   "cell_type": "code",
   "execution_count": null,
   "metadata": {},
   "outputs": [],
   "source": [
    "students[0].split(\"_\")[1]"
   ]
  },
  {
   "cell_type": "code",
   "execution_count": 14,
   "metadata": {},
   "outputs": [],
   "source": [
    "for name in students:\n",
    "    students_names.append(name.split(\"_\")[0])\n",
    "    students_surnames.append(name.split(\"_\")[1])"
   ]
  },
  {
   "cell_type": "code",
   "execution_count": 15,
   "metadata": {
    "scrolled": false
   },
   "outputs": [
    {
     "name": "stdout",
     "output_type": "stream",
     "text": [
      "['Aine', 'Àlex', 'André', 'Anne', 'Arnau', 'Carla', 'Daria', 'Dirk', 'Erik', 'Filipe', 'Hugo', 'Jorge', 'Marc', 'Maria', 'Miguel', 'Miguel', 'Nick', 'Oscar', 'Pau', 'Pol', 'Raúl', 'Réka', 'Sara', 'Sergio', 'Toni', 'Víctor', 'Yidi']\n"
     ]
    }
   ],
   "source": [
    "print(students_names)"
   ]
  },
  {
   "cell_type": "code",
   "execution_count": 16,
   "metadata": {},
   "outputs": [
    {
     "name": "stdout",
     "output_type": "stream",
     "text": [
      "['Gates', 'Gómez', 'SantaClara', 'Fonte', 'Angerri', 'Feriche', 'Gavrilova', 'Gruhne', 'Termes', 'Santos', 'Mellado', 'Gonzalez', 'Sarrau', 'González', 'Chacon', 'Simón', 'Deitmers', 'Tomás', 'Sancho', 'Serramalera', 'Castrillo', 'Varga', 'Peña', 'Monge', 'Espadas', 'López', 'Chi']\n"
     ]
    }
   ],
   "source": [
    "print(students_surnames)"
   ]
  },
  {
   "cell_type": "code",
   "execution_count": 28,
   "metadata": {},
   "outputs": [],
   "source": [
    "# Convert code into function that takes name as input and outputs the surname\n",
    "# Ask the user to write the input (the name) interactively"
   ]
  },
  {
   "cell_type": "code",
   "execution_count": 27,
   "metadata": {},
   "outputs": [
    {
     "name": "stdout",
     "output_type": "stream",
     "text": [
      "What's your first name?:Marc\n",
      "Sarrau\n"
     ]
    }
   ],
   "source": [
    "first_name = input(\"What's your first name?:\")\n",
    "\n",
    "position = students_names.index(first_name)\n",
    "\n",
    "if first_name in students_names:\n",
    "    print(students_surnames[position])\n",
    "\n",
    "else:\n",
    "    first_name\n",
    "\n",
    "    "
   ]
  },
  {
   "cell_type": "code",
   "execution_count": 26,
   "metadata": {},
   "outputs": [
    {
     "name": "stdout",
     "output_type": "stream",
     "text": [
      "Javi is a great teacher!\n",
      "I really like Javi\n",
      "Mar is a great teacher!\n",
      "I really like Mar\n",
      "Pol is a great teacher!\n",
      "I really like Pol\n"
     ]
    }
   ],
   "source": [
    "teachers = [\"Javi\", \"Mar\", \"Pol\"]\n",
    "for teacher in teachers:\n",
    "    print(teacher + \" is a great teacher!\")\n",
    "    sleep(4)\n",
    "    print(\"I really like \" + teacher)\n",
    "    sleep(1)"
   ]
  },
  {
   "cell_type": "code",
   "execution_count": 30,
   "metadata": {},
   "outputs": [],
   "source": [
    "import random"
   ]
  },
  {
   "cell_type": "code",
   "execution_count": 55,
   "metadata": {},
   "outputs": [
    {
     "data": {
      "text/plain": [
       "2"
      ]
     },
     "execution_count": 55,
     "metadata": {},
     "output_type": "execute_result"
    }
   ],
   "source": [
    "random.randint(1, 3)"
   ]
  },
  {
   "cell_type": "code",
   "execution_count": 87,
   "metadata": {},
   "outputs": [],
   "source": [
    "random_numbers = []"
   ]
  },
  {
   "cell_type": "code",
   "execution_count": 88,
   "metadata": {},
   "outputs": [],
   "source": [
    "a = random.randint(1, 3)"
   ]
  },
  {
   "cell_type": "code",
   "execution_count": 89,
   "metadata": {},
   "outputs": [
    {
     "data": {
      "text/plain": [
       "1"
      ]
     },
     "execution_count": 89,
     "metadata": {},
     "output_type": "execute_result"
    }
   ],
   "source": [
    "a"
   ]
  },
  {
   "cell_type": "code",
   "execution_count": 100,
   "metadata": {},
   "outputs": [],
   "source": [
    "for n in random_numbers:\n",
    "    print(n+3)"
   ]
  },
  {
   "cell_type": "code",
   "execution_count": 109,
   "metadata": {
    "scrolled": true
   },
   "outputs": [
    {
     "name": "stdout",
     "output_type": "stream",
     "text": [
      "[5, 1, 6, 1, 2, 6, 3, 4, 3, 6]\n"
     ]
    }
   ],
   "source": [
    "random_numbers = []\n",
    "\n",
    "for i in range(10):\n",
    "    a = random.randint(1, 6)\n",
    "    random_numbers.append(a)\n",
    "print(random_numbers)"
   ]
  },
  {
   "cell_type": "code",
   "execution_count": 110,
   "metadata": {},
   "outputs": [
    {
     "data": {
      "text/plain": [
       "{1, 2, 3, 4, 5, 6}"
      ]
     },
     "execution_count": 110,
     "metadata": {},
     "output_type": "execute_result"
    }
   ],
   "source": [
    "set(random_numbers)"
   ]
  },
  {
   "cell_type": "code",
   "execution_count": 111,
   "metadata": {},
   "outputs": [
    {
     "name": "stdout",
     "output_type": "stream",
     "text": [
      "[58, 7, 5, 17, 9, 29, 81, 49, 62, 56, 52, 5, 13, 61, 19, 96, 6, 13, 26, 41, 60, 51, 45, 3, 13, 77, 38, 89, 65, 5, 81, 97, 70, 18, 39, 77, 78, 18, 70, 65, 56, 82, 68, 27, 39, 51, 78, 16, 24, 90, 10, 92, 85, 34, 36, 94, 96, 17, 69, 1, 36, 6, 23, 82, 72, 36, 100, 31, 4, 85, 61, 5, 92, 63, 37, 44, 28, 68, 75, 85, 62, 61, 66, 5, 14, 37, 53, 69, 28, 98, 78, 80, 28, 49, 100, 22, 5, 25, 36, 54]\n"
     ]
    }
   ],
   "source": [
    "random_numbers = []\n",
    "\n",
    "for i in range(100):\n",
    "    a = random.randint(1, 100)\n",
    "    random_numbers.append(a)\n",
    "print(random_numbers)"
   ]
  },
  {
   "cell_type": "code",
   "execution_count": 113,
   "metadata": {},
   "outputs": [
    {
     "data": {
      "text/plain": [
       "63"
      ]
     },
     "execution_count": 113,
     "metadata": {},
     "output_type": "execute_result"
    }
   ],
   "source": [
    "len(set(random_numbers))"
   ]
  },
  {
   "cell_type": "code",
   "execution_count": 115,
   "metadata": {},
   "outputs": [],
   "source": [
    "import statistics"
   ]
  },
  {
   "cell_type": "code",
   "execution_count": 116,
   "metadata": {},
   "outputs": [
    {
     "data": {
      "text/plain": [
       "48.32"
      ]
     },
     "execution_count": 116,
     "metadata": {},
     "output_type": "execute_result"
    }
   ],
   "source": [
    "statistics.mean(random_numbers)"
   ]
  },
  {
   "cell_type": "code",
   "execution_count": 169,
   "metadata": {
    "scrolled": true
   },
   "outputs": [
    {
     "ename": "IndentationError",
     "evalue": "expected an indented block (<ipython-input-169-8b0e7683fc87>, line 8)",
     "output_type": "error",
     "traceback": [
      "\u001b[0;36m  File \u001b[0;32m\"<ipython-input-169-8b0e7683fc87>\"\u001b[0;36m, line \u001b[0;32m8\u001b[0m\n\u001b[0;31m    list_1000.append(random.randint(1, 100)\u001b[0m\n\u001b[0m    ^\u001b[0m\n\u001b[0;31mIndentationError\u001b[0m\u001b[0;31m:\u001b[0m expected an indented block\n"
     ]
    }
   ],
   "source": [
    "import random\n",
    "\n",
    "unique_numbers = []\n",
    "\n",
    "for i in range(1,1001):\n",
    "    list_1000 = []\n",
    "    for i in range(1,100):\n",
    "    list_1000.append(random.randint(1, 100)\n",
    "    \n",
    "    unique_numbers.append(len(set(list_1000)))\n",
    "    \n",
    "print(statistics.mean(random_numbers))"
   ]
  },
  {
   "cell_type": "code",
   "execution_count": 173,
   "metadata": {},
   "outputs": [],
   "source": [
    "my_dictionary = {\"key_1\":\"value_1\",\n",
    "                \"key_2\":\"value_2\"\n",
    "                }"
   ]
  },
  {
   "cell_type": "code",
   "execution_count": 174,
   "metadata": {},
   "outputs": [
    {
     "data": {
      "text/plain": [
       "dict_keys(['key_1', 'key_2'])"
      ]
     },
     "execution_count": 174,
     "metadata": {},
     "output_type": "execute_result"
    }
   ],
   "source": [
    "my_dictionary.keys()"
   ]
  },
  {
   "cell_type": "code",
   "execution_count": 175,
   "metadata": {},
   "outputs": [
    {
     "data": {
      "text/plain": [
       "dict_values(['value_1', 'value_2'])"
      ]
     },
     "execution_count": 175,
     "metadata": {},
     "output_type": "execute_result"
    }
   ],
   "source": [
    "my_dictionary.values()"
   ]
  },
  {
   "cell_type": "code",
   "execution_count": 181,
   "metadata": {},
   "outputs": [],
   "source": [
    "person = {\"Name\":\"Bob\",\n",
    "         \"Age\":\"46\",\n",
    "         \"Jobs\":[\"builder\",\"Data scientist\"]\n",
    "         }"
   ]
  },
  {
   "cell_type": "code",
   "execution_count": 182,
   "metadata": {},
   "outputs": [
    {
     "data": {
      "text/plain": [
       "dict_values(['Bob', '46', ['builder', 'Data scientist']])"
      ]
     },
     "execution_count": 182,
     "metadata": {},
     "output_type": "execute_result"
    }
   ],
   "source": [
    "person.values()"
   ]
  },
  {
   "cell_type": "code",
   "execution_count": 183,
   "metadata": {},
   "outputs": [
    {
     "data": {
      "text/plain": [
       "dict_keys(['Name', 'Age', 'Jobs'])"
      ]
     },
     "execution_count": 183,
     "metadata": {},
     "output_type": "execute_result"
    }
   ],
   "source": [
    "person.keys()"
   ]
  },
  {
   "cell_type": "code",
   "execution_count": 184,
   "metadata": {},
   "outputs": [
    {
     "data": {
      "text/plain": [
       "['builder', 'Data scientist']"
      ]
     },
     "execution_count": 184,
     "metadata": {},
     "output_type": "execute_result"
    }
   ],
   "source": [
    "person[\"Jobs\"]"
   ]
  },
  {
   "cell_type": "code",
   "execution_count": 189,
   "metadata": {},
   "outputs": [],
   "source": [
    "people = {\"Bob\": {\"Age\":46, \"Jobs\":[\"builder\",\"Data scientist\"]},\n",
    "          \"Mar\": {\"Age\":22, \"Jobs\": [\"TA\", \"Genius\"]}\n",
    "         }"
   ]
  },
  {
   "cell_type": "code",
   "execution_count": 190,
   "metadata": {},
   "outputs": [
    {
     "data": {
      "text/plain": [
       "['builder', 'Data scientist']"
      ]
     },
     "execution_count": 190,
     "metadata": {},
     "output_type": "execute_result"
    }
   ],
   "source": [
    "people[\"Bob\"][\"Jobs\"]"
   ]
  },
  {
   "cell_type": "code",
   "execution_count": 192,
   "metadata": {
    "scrolled": true
   },
   "outputs": [
    {
     "name": "stdout",
     "output_type": "stream",
     "text": [
      "46\n",
      "22\n"
     ]
    }
   ],
   "source": [
    "for pers in people.keys():\n",
    "    print(people[pers][\"Age\"])"
   ]
  },
  {
   "cell_type": "code",
   "execution_count": 206,
   "metadata": {},
   "outputs": [
    {
     "name": "stdout",
     "output_type": "stream",
     "text": [
      "[30, 31]\n"
     ]
    }
   ],
   "source": [
    "teachers_dict = {\n",
    "    \"Guillem\":{\n",
    "        \"age\":30,\n",
    "        \"role\":\"LT\",\n",
    "        \"city_born\":\"Barcelona\"\n",
    "    },\n",
    "    \"Mar\":{\n",
    "        \"age\":22,\n",
    "        \"role\":\"TA\",\n",
    "        \"city_born\":\"Murcia\"\n",
    "    },\n",
    "    \"Javi\":{\n",
    "        \"age\":21,\n",
    "        \"role\":\"TA\",\n",
    "        \"city_born\":\"Donosti\"\n",
    "    },\n",
    "    \"Pol\":{\n",
    "        \"age\":31,\n",
    "        \"role\":\"TA\",\n",
    "        \"city_born\":\"Barcelona\"\n",
    "    }\n",
    "}\n",
    "\n",
    "age = []\n",
    "for teacher in teachers_dict:\n",
    "    if teachers_dict[teacher][\"city_born\"] == (\"Barcelona\"):\n",
    "        age.append(teachers_dict[teacher][\"age\"])\n",
    "    \n",
    "print(age)\n",
    "    \n",
    "    "
   ]
  },
  {
   "cell_type": "code",
   "execution_count": null,
   "metadata": {},
   "outputs": [],
   "source": []
  }
 ],
 "metadata": {
  "kernelspec": {
   "display_name": "Python 3",
   "language": "python",
   "name": "python3"
  },
  "language_info": {
   "codemirror_mode": {
    "name": "ipython",
    "version": 3
   },
   "file_extension": ".py",
   "mimetype": "text/x-python",
   "name": "python",
   "nbconvert_exporter": "python",
   "pygments_lexer": "ipython3",
   "version": "3.8.6"
  }
 },
 "nbformat": 4,
 "nbformat_minor": 4
}
